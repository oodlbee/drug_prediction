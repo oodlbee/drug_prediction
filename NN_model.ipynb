{
  "nbformat": 4,
  "nbformat_minor": 0,
  "metadata": {
    "colab": {
      "provenance": [],
      "include_colab_link": true
    },
    "kernelspec": {
      "name": "python3",
      "display_name": "Python 3"
    },
    "accelerator": "GPU"
  },
  "cells": [
    {
      "cell_type": "markdown",
      "metadata": {
        "id": "view-in-github",
        "colab_type": "text"
      },
      "source": [
        "<a href=\"https://colab.research.google.com/github/oodlbee/drug_prediction/blob/master/NN_model.ipynb\" target=\"_parent\"><img src=\"https://colab.research.google.com/assets/colab-badge.svg\" alt=\"Open In Colab\"/></a>"
      ]
    },
    {
      "cell_type": "markdown",
      "metadata": {
        "id": "UjfquuN3HkHt"
      },
      "source": [
        "## Решение задачи регрессии с помощью нейронных сетей\n",
        "\n",
        "Определение стоимости недвижимости из набора данных Boston Housing\n",
        "\n",
        "Чтобы запускать и редактировать код, сохраните копию этого ноутбука себе (File->Save a copy in Drive...). Свою копию вы сможете изменять и запускать.\n"
      ]
    },
    {
      "cell_type": "code",
      "metadata": {
        "id": "VY9tayQBHh1M",
        "colab": {
          "base_uri": "https://localhost:8080/"
        },
        "outputId": "c3f3d311-9d26-411c-ac97-514edfd6de4f"
      },
      "source": [
        "!pip install rdkit\n",
        "from tensorflow.keras.models import Sequential\n",
        "from tensorflow.keras.layers import Dense\n",
        "import tensorflow as tf\n",
        "import matplotlib.pyplot as plt\n",
        "import pandas as pd\n",
        "from sklearn.model_selection import train_test_split\n",
        "import numpy as np\n",
        "from rdkit import Chem\n",
        "from rdkit import DataStructs\n",
        "from rdkit.Chem import AllChem, Draw, Descriptors\n",
        "from sklearn.preprocessing import FunctionTransformer\n",
        "import seaborn as sns\n",
        "#from scipy.misc import toimage\n",
        "%matplotlib inline"
      ],
      "execution_count": 16,
      "outputs": [
        {
          "output_type": "stream",
          "name": "stdout",
          "text": [
            "Requirement already satisfied: rdkit in /usr/local/lib/python3.10/dist-packages (2023.3.3)\n",
            "Requirement already satisfied: numpy in /usr/local/lib/python3.10/dist-packages (from rdkit) (1.23.5)\n",
            "Requirement already satisfied: Pillow in /usr/local/lib/python3.10/dist-packages (from rdkit) (9.4.0)\n"
          ]
        }
      ]
    },
    {
      "cell_type": "code",
      "source": [],
      "metadata": {
        "id": "UCeVoGE5xjr0"
      },
      "execution_count": null,
      "outputs": []
    },
    {
      "cell_type": "markdown",
      "metadata": {
        "id": "lzmoZSmvH41N"
      },
      "source": [
        "## Подготовка данных"
      ]
    },
    {
      "cell_type": "markdown",
      "metadata": {
        "id": "s8hejqycICpn"
      },
      "source": [
        "**Загружаем данные**"
      ]
    },
    {
      "cell_type": "code",
      "source": [
        "all_data = pd.read_excel('35000.xlsx')\n",
        "all_data = all_data.drop(columns=[\"Unnamed: 0\"])"
      ],
      "metadata": {
        "id": "JflqiyTh3tb3"
      },
      "execution_count": 5,
      "outputs": []
    },
    {
      "cell_type": "code",
      "source": [
        "all_data.shape"
      ],
      "metadata": {
        "id": "5Cfhj2bs4t77",
        "outputId": "c8db00c7-5086-443b-ca7a-39d1fa7cfa18",
        "colab": {
          "base_uri": "https://localhost:8080/"
        }
      },
      "execution_count": 14,
      "outputs": [
        {
          "output_type": "execute_result",
          "data": {
            "text/plain": [
              "(36377, 3)"
            ]
          },
          "metadata": {},
          "execution_count": 14
        }
      ]
    },
    {
      "cell_type": "code",
      "source": [
        "all_data.head(1)"
      ],
      "metadata": {
        "id": "qitZEoSB3_As",
        "outputId": "ffb04537-3426-4b55-ac9d-b653e63dba07",
        "colab": {
          "base_uri": "https://localhost:8080/",
          "height": 81
        }
      },
      "execution_count": 6,
      "outputs": [
        {
          "output_type": "execute_result",
          "data": {
            "text/plain": [
              "           Title      IC50                                             SMILES\n",
              "0  CHEMBL2206459  0.000015  [H]\\N=C(N)\\N[C@@H](C1)[C@@H](NC(=O)C)[C@@H](C=..."
            ],
            "text/html": [
              "\n",
              "  <div id=\"df-97f41c68-f548-4624-a396-e2809cfc937d\" class=\"colab-df-container\">\n",
              "    <div>\n",
              "<style scoped>\n",
              "    .dataframe tbody tr th:only-of-type {\n",
              "        vertical-align: middle;\n",
              "    }\n",
              "\n",
              "    .dataframe tbody tr th {\n",
              "        vertical-align: top;\n",
              "    }\n",
              "\n",
              "    .dataframe thead th {\n",
              "        text-align: right;\n",
              "    }\n",
              "</style>\n",
              "<table border=\"1\" class=\"dataframe\">\n",
              "  <thead>\n",
              "    <tr style=\"text-align: right;\">\n",
              "      <th></th>\n",
              "      <th>Title</th>\n",
              "      <th>IC50</th>\n",
              "      <th>SMILES</th>\n",
              "    </tr>\n",
              "  </thead>\n",
              "  <tbody>\n",
              "    <tr>\n",
              "      <th>0</th>\n",
              "      <td>CHEMBL2206459</td>\n",
              "      <td>0.000015</td>\n",
              "      <td>[H]\\N=C(N)\\N[C@@H](C1)[C@@H](NC(=O)C)[C@@H](C=...</td>\n",
              "    </tr>\n",
              "  </tbody>\n",
              "</table>\n",
              "</div>\n",
              "    <div class=\"colab-df-buttons\">\n",
              "\n",
              "  <div class=\"colab-df-container\">\n",
              "    <button class=\"colab-df-convert\" onclick=\"convertToInteractive('df-97f41c68-f548-4624-a396-e2809cfc937d')\"\n",
              "            title=\"Convert this dataframe to an interactive table.\"\n",
              "            style=\"display:none;\">\n",
              "\n",
              "  <svg xmlns=\"http://www.w3.org/2000/svg\" height=\"24px\" viewBox=\"0 -960 960 960\">\n",
              "    <path d=\"M120-120v-720h720v720H120Zm60-500h600v-160H180v160Zm220 220h160v-160H400v160Zm0 220h160v-160H400v160ZM180-400h160v-160H180v160Zm440 0h160v-160H620v160ZM180-180h160v-160H180v160Zm440 0h160v-160H620v160Z\"/>\n",
              "  </svg>\n",
              "    </button>\n",
              "\n",
              "  <style>\n",
              "    .colab-df-container {\n",
              "      display:flex;\n",
              "      gap: 12px;\n",
              "    }\n",
              "\n",
              "    .colab-df-convert {\n",
              "      background-color: #E8F0FE;\n",
              "      border: none;\n",
              "      border-radius: 50%;\n",
              "      cursor: pointer;\n",
              "      display: none;\n",
              "      fill: #1967D2;\n",
              "      height: 32px;\n",
              "      padding: 0 0 0 0;\n",
              "      width: 32px;\n",
              "    }\n",
              "\n",
              "    .colab-df-convert:hover {\n",
              "      background-color: #E2EBFA;\n",
              "      box-shadow: 0px 1px 2px rgba(60, 64, 67, 0.3), 0px 1px 3px 1px rgba(60, 64, 67, 0.15);\n",
              "      fill: #174EA6;\n",
              "    }\n",
              "\n",
              "    .colab-df-buttons div {\n",
              "      margin-bottom: 4px;\n",
              "    }\n",
              "\n",
              "    [theme=dark] .colab-df-convert {\n",
              "      background-color: #3B4455;\n",
              "      fill: #D2E3FC;\n",
              "    }\n",
              "\n",
              "    [theme=dark] .colab-df-convert:hover {\n",
              "      background-color: #434B5C;\n",
              "      box-shadow: 0px 1px 3px 1px rgba(0, 0, 0, 0.15);\n",
              "      filter: drop-shadow(0px 1px 2px rgba(0, 0, 0, 0.3));\n",
              "      fill: #FFFFFF;\n",
              "    }\n",
              "  </style>\n",
              "\n",
              "    <script>\n",
              "      const buttonEl =\n",
              "        document.querySelector('#df-97f41c68-f548-4624-a396-e2809cfc937d button.colab-df-convert');\n",
              "      buttonEl.style.display =\n",
              "        google.colab.kernel.accessAllowed ? 'block' : 'none';\n",
              "\n",
              "      async function convertToInteractive(key) {\n",
              "        const element = document.querySelector('#df-97f41c68-f548-4624-a396-e2809cfc937d');\n",
              "        const dataTable =\n",
              "          await google.colab.kernel.invokeFunction('convertToInteractive',\n",
              "                                                    [key], {});\n",
              "        if (!dataTable) return;\n",
              "\n",
              "        const docLinkHtml = 'Like what you see? Visit the ' +\n",
              "          '<a target=\"_blank\" href=https://colab.research.google.com/notebooks/data_table.ipynb>data table notebook</a>'\n",
              "          + ' to learn more about interactive tables.';\n",
              "        element.innerHTML = '';\n",
              "        dataTable['output_type'] = 'display_data';\n",
              "        await google.colab.output.renderOutput(dataTable, element);\n",
              "        const docLink = document.createElement('div');\n",
              "        docLink.innerHTML = docLinkHtml;\n",
              "        element.appendChild(docLink);\n",
              "      }\n",
              "    </script>\n",
              "  </div>\n",
              "\n",
              "    </div>\n",
              "  </div>\n"
            ]
          },
          "metadata": {},
          "execution_count": 6
        }
      ]
    },
    {
      "cell_type": "code",
      "source": [],
      "metadata": {
        "id": "lkCMcHOI4yBs"
      },
      "execution_count": null,
      "outputs": []
    },
    {
      "cell_type": "code",
      "source": [
        "sum(all_data.SMILES.duplicated())"
      ],
      "metadata": {
        "id": "EdbtOV9w4DAS",
        "outputId": "c6aaa5a0-0a8e-4b9e-bf28-43667ac1425f",
        "colab": {
          "base_uri": "https://localhost:8080/"
        }
      },
      "execution_count": 12,
      "outputs": [
        {
          "output_type": "execute_result",
          "data": {
            "text/plain": [
              "117"
            ]
          },
          "metadata": {},
          "execution_count": 12
        }
      ]
    },
    {
      "cell_type": "code",
      "source": [
        "all_data = all_data.drop(all_data[all_data.SMILES.duplicated()].index)"
      ],
      "metadata": {
        "id": "0uLbxS-t4hUs"
      },
      "execution_count": 15,
      "outputs": []
    },
    {
      "cell_type": "code",
      "source": [
        "all_data = all_data.drop(all_data[all_data['IC50'] > 500].index)"
      ],
      "metadata": {
        "id": "biP0yOlb4zLM"
      },
      "execution_count": 18,
      "outputs": []
    },
    {
      "cell_type": "code",
      "source": [
        "sns.boxplot(all_data, x=\"IC50\")\n",
        "plt.show()"
      ],
      "metadata": {
        "id": "WT8KXqik4Ud-",
        "outputId": "b19b7b74-22ba-41da-95bb-425034d26ebe",
        "colab": {
          "base_uri": "https://localhost:8080/",
          "height": 449
        }
      },
      "execution_count": 19,
      "outputs": [
        {
          "output_type": "display_data",
          "data": {
            "text/plain": [
              "<Figure size 640x480 with 1 Axes>"
            ],
            "image/png": "[encoded data removed]"
          },
          "metadata": {}
        }
      ]
    },
    {
      "cell_type": "code",
      "metadata": {
        "id": "aBte_p1uH_NP"
      },
      "source": [
        "# all_data = pd.read_csv('processed_df.csv')\n",
        "# all_data = all_data.drop(all_data[all_data['CC50-MDCK, mmg/ml'] == 300].index)\n",
        "X = all_data[[\"SMILES\"]]\n",
        "y = all_data[\"IC50\"]\n",
        "# y2= all_data[\"IC50, mmg/ml\"]\n"
      ],
      "execution_count": 20,
      "outputs": []
    },
    {
      "cell_type": "code",
      "source": [
        "# all_data[all_data['CC50-MDCK, mmg/ml'] == 300].shape"
      ],
      "metadata": {
        "colab": {
          "base_uri": "https://localhost:8080/"
        },
        "id": "k-b9uw291lKW",
        "outputId": "54855a6b-6490-4e76-8c0d-74aa58337e49"
      },
      "execution_count": null,
      "outputs": [
        {
          "output_type": "execute_result",
          "data": {
            "text/plain": [
              "(0, 58)"
            ]
          },
          "metadata": {},
          "execution_count": 3
        }
      ]
    },
    {
      "cell_type": "code",
      "source": [
        "all_data.info()"
      ],
      "metadata": {
        "id": "iQcfCDDP5WUz",
        "outputId": "92a6554c-56f4-4c00-f985-6841bae6156a",
        "colab": {
          "base_uri": "https://localhost:8080/"
        }
      },
      "execution_count": 26,
      "outputs": [
        {
          "output_type": "stream",
          "name": "stdout",
          "text": [
            "<class 'pandas.core.frame.DataFrame'>\n",
            "Int64Index: 36237 entries, 0 to 36352\n",
            "Data columns (total 3 columns):\n",
            " #   Column  Non-Null Count  Dtype  \n",
            "---  ------  --------------  -----  \n",
            " 0   Title   36237 non-null  object \n",
            " 1   IC50    36237 non-null  float64\n",
            " 2   SMILES  36237 non-null  object \n",
            "dtypes: float64(1), object(2)\n",
            "memory usage: 1.1+ MB\n"
          ]
        }
      ]
    },
    {
      "cell_type": "code",
      "source": [
        "all_data.head()"
      ],
      "metadata": {
        "colab": {
          "base_uri": "https://localhost:8080/",
          "height": 206
        },
        "id": "GLTYwObfUfdc",
        "outputId": "c4b5d5a2-8742-4eef-8121-bf5849e33f70"
      },
      "execution_count": 21,
      "outputs": [
        {
          "output_type": "execute_result",
          "data": {
            "text/plain": [
              "           Title      IC50                                             SMILES\n",
              "0  CHEMBL2206459  0.000015  [H]\\N=C(N)\\N[C@@H](C1)[C@@H](NC(=O)C)[C@@H](C=...\n",
              "1  CHEMBL3818159  0.000016  O=C(O)C1=C[C@H](N)[C@@H](NC(=O)C)[C@@H](C1)COC...\n",
              "2  CHEMBL1956716  0.000033  C=CC(=O)N[C@H]([C@H](C1)N)[C@@H](C=C1C([O-])=O...\n",
              "3  CHEMBL1956715  0.000032  CC(=O)N[C@H]([C@H](C1)N)[C@@H](C=C1C([O-])=O)O...\n",
              "4  CHEMBL4444029  0.000041  O=C(O)c1c(O)c(=O)cc([nH]1)-c(c2C)ccc(c2)-c3noc..."
            ],
            "text/html": [
              "\n",
              "  <div id=\"df-75c6d85e-c0cb-43ab-abb8-8f0e1bd93a17\" class=\"colab-df-container\">\n",
              "    <div>\n",
              "<style scoped>\n",
              "    .dataframe tbody tr th:only-of-type {\n",
              "        vertical-align: middle;\n",
              "    }\n",
              "\n",
              "    .dataframe tbody tr th {\n",
              "        vertical-align: top;\n",
              "    }\n",
              "\n",
              "    .dataframe thead th {\n",
              "        text-align: right;\n",
              "    }\n",
              "</style>\n",
              "<table border=\"1\" class=\"dataframe\">\n",
              "  <thead>\n",
              "    <tr style=\"text-align: right;\">\n",
              "      <th></th>\n",
              "      <th>Title</th>\n",
              "      <th>IC50</th>\n",
              "      <th>SMILES</th>\n",
              "    </tr>\n",
              "  </thead>\n",
              "  <tbody>\n",
              "    <tr>\n",
              "      <th>0</th>\n",
              "      <td>CHEMBL2206459</td>\n",
              "      <td>0.000015</td>\n",
              "      <td>[H]\\N=C(N)\\N[C@@H](C1)[C@@H](NC(=O)C)[C@@H](C=...</td>\n",
              "    </tr>\n",
              "    <tr>\n",
              "      <th>1</th>\n",
              "      <td>CHEMBL3818159</td>\n",
              "      <td>0.000016</td>\n",
              "      <td>O=C(O)C1=C[C@H](N)[C@@H](NC(=O)C)[C@@H](C1)COC...</td>\n",
              "    </tr>\n",
              "    <tr>\n",
              "      <th>2</th>\n",
              "      <td>CHEMBL1956716</td>\n",
              "      <td>0.000033</td>\n",
              "      <td>C=CC(=O)N[C@H]([C@H](C1)N)[C@@H](C=C1C([O-])=O...</td>\n",
              "    </tr>\n",
              "    <tr>\n",
              "      <th>3</th>\n",
              "      <td>CHEMBL1956715</td>\n",
              "      <td>0.000032</td>\n",
              "      <td>CC(=O)N[C@H]([C@H](C1)N)[C@@H](C=C1C([O-])=O)O...</td>\n",
              "    </tr>\n",
              "    <tr>\n",
              "      <th>4</th>\n",
              "      <td>CHEMBL4444029</td>\n",
              "      <td>0.000041</td>\n",
              "      <td>O=C(O)c1c(O)c(=O)cc([nH]1)-c(c2C)ccc(c2)-c3noc...</td>\n",
              "    </tr>\n",
              "  </tbody>\n",
              "</table>\n",
              "</div>\n",
              "    <div class=\"colab-df-buttons\">\n",
              "\n",
              "  <div class=\"colab-df-container\">\n",
              "    <button class=\"colab-df-convert\" onclick=\"convertToInteractive('df-75c6d85e-c0cb-43ab-abb8-8f0e1bd93a17')\"\n",
              "            title=\"Convert this dataframe to an interactive table.\"\n",
              "            style=\"display:none;\">\n",
              "\n",
              "  <svg xmlns=\"http://www.w3.org/2000/svg\" height=\"24px\" viewBox=\"0 -960 960 960\">\n",
              "    <path d=\"M120-120v-720h720v720H120Zm60-500h600v-160H180v160Zm220 220h160v-160H400v160Zm0 220h160v-160H400v160ZM180-400h160v-160H180v160Zm440 0h160v-160H620v160ZM180-180h160v-160H180v160Zm440 0h160v-160H620v160Z\"/>\n",
              "  </svg>\n",
              "    </button>\n",
              "\n",
              "  <style>\n",
              "    .colab-df-container {\n",
              "      display:flex;\n",
              "      gap: 12px;\n",
              "    }\n",
              "\n",
              "    .colab-df-convert {\n",
              "      background-color: #E8F0FE;\n",
              "      border: none;\n",
              "      border-radius: 50%;\n",
              "      cursor: pointer;\n",
              "      display: none;\n",
              "      fill: #1967D2;\n",
              "      height: 32px;\n",
              "      padding: 0 0 0 0;\n",
              "      width: 32px;\n",
              "    }\n",
              "\n",
              "    .colab-df-convert:hover {\n",
              "      background-color: #E2EBFA;\n",
              "      box-shadow: 0px 1px 2px rgba(60, 64, 67, 0.3), 0px 1px 3px 1px rgba(60, 64, 67, 0.15);\n",
              "      fill: #174EA6;\n",
              "    }\n",
              "\n",
              "    .colab-df-buttons div {\n",
              "      margin-bottom: 4px;\n",
              "    }\n",
              "\n",
              "    [theme=dark] .colab-df-convert {\n",
              "      background-color: #3B4455;\n",
              "      fill: #D2E3FC;\n",
              "    }\n",
              "\n",
              "    [theme=dark] .colab-df-convert:hover {\n",
              "      background-color: #434B5C;\n",
              "      box-shadow: 0px 1px 3px 1px rgba(0, 0, 0, 0.15);\n",
              "      filter: drop-shadow(0px 1px 2px rgba(0, 0, 0, 0.3));\n",
              "      fill: #FFFFFF;\n",
              "    }\n",
              "  </style>\n",
              "\n",
              "    <script>\n",
              "      const buttonEl =\n",
              "        document.querySelector('#df-75c6d85e-c0cb-43ab-abb8-8f0e1bd93a17 button.colab-df-convert');\n",
              "      buttonEl.style.display =\n",
              "        google.colab.kernel.accessAllowed ? 'block' : 'none';\n",
              "\n",
              "      async function convertToInteractive(key) {\n",
              "        const element = document.querySelector('#df-75c6d85e-c0cb-43ab-abb8-8f0e1bd93a17');\n",
              "        const dataTable =\n",
              "          await google.colab.kernel.invokeFunction('convertToInteractive',\n",
              "                                                    [key], {});\n",
              "        if (!dataTable) return;\n",
              "\n",
              "        const docLinkHtml = 'Like what you see? Visit the ' +\n",
              "          '<a target=\"_blank\" href=https://colab.research.google.com/notebooks/data_table.ipynb>data table notebook</a>'\n",
              "          + ' to learn more about interactive tables.';\n",
              "        element.innerHTML = '';\n",
              "        dataTable['output_type'] = 'display_data';\n",
              "        await google.colab.output.renderOutput(dataTable, element);\n",
              "        const docLink = document.createElement('div');\n",
              "        docLink.innerHTML = docLinkHtml;\n",
              "        element.appendChild(docLink);\n",
              "      }\n",
              "    </script>\n",
              "  </div>\n",
              "\n",
              "\n",
              "<div id=\"df-aa12b6d2-fb15-4405-bddb-e1663ce6b870\">\n",
              "  <button class=\"colab-df-quickchart\" onclick=\"quickchart('df-aa12b6d2-fb15-4405-bddb-e1663ce6b870')\"\n",
              "            title=\"Suggest charts.\"\n",
              "            style=\"display:none;\">\n",
              "\n",
              "<svg xmlns=\"http://www.w3.org/2000/svg\" height=\"24px\"viewBox=\"0 0 24 24\"\n",
              "     width=\"24px\">\n",
              "    <g>\n",
              "        <path d=\"M19 3H5c-1.1 0-2 .9-2 2v14c0 1.1.9 2 2 2h14c1.1 0 2-.9 2-2V5c0-1.1-.9-2-2-2zM9 17H7v-7h2v7zm4 0h-2V7h2v10zm4 0h-2v-4h2v4z\"/>\n",
              "    </g>\n",
              "</svg>\n",
              "  </button>\n",
              "\n",
              "<style>\n",
              "  .colab-df-quickchart {\n",
              "      --bg-color: #E8F0FE;\n",
              "      --fill-color: #1967D2;\n",
              "      --hover-bg-color: #E2EBFA;\n",
              "      --hover-fill-color: #174EA6;\n",
              "      --disabled-fill-color: #AAA;\n",
              "      --disabled-bg-color: #DDD;\n",
              "  }\n",
              "\n",
              "  [theme=dark] .colab-df-quickchart {\n",
              "      --bg-color: #3B4455;\n",
              "      --fill-color: #D2E3FC;\n",
              "      --hover-bg-color: #434B5C;\n",
              "      --hover-fill-color: #FFFFFF;\n",
              "      --disabled-bg-color: #3B4455;\n",
              "      --disabled-fill-color: #666;\n",
              "  }\n",
              "\n",
              "  .colab-df-quickchart {\n",
              "    background-color: var(--bg-color);\n",
              "    border: none;\n",
              "    border-radius: 50%;\n",
              "    cursor: pointer;\n",
              "    display: none;\n",
              "    fill: var(--fill-color);\n",
              "    height: 32px;\n",
              "    padding: 0;\n",
              "    width: 32px;\n",
              "  }\n",
              "\n",
              "  .colab-df-quickchart:hover {\n",
              "    background-color: var(--hover-bg-color);\n",
              "    box-shadow: 0 1px 2px rgba(60, 64, 67, 0.3), 0 1px 3px 1px rgba(60, 64, 67, 0.15);\n",
              "    fill: var(--button-hover-fill-color);\n",
              "  }\n",
              "\n",
              "  .colab-df-quickchart-complete:disabled,\n",
              "  .colab-df-quickchart-complete:disabled:hover {\n",
              "    background-color: var(--disabled-bg-color);\n",
              "    fill: var(--disabled-fill-color);\n",
              "    box-shadow: none;\n",
              "  }\n",
              "\n",
              "  .colab-df-spinner {\n",
              "    border: 2px solid var(--fill-color);\n",
              "    border-color: transparent;\n",
              "    border-bottom-color: var(--fill-color);\n",
              "    animation:\n",
              "      spin 1s steps(1) infinite;\n",
              "  }\n",
              "\n",
              "  @keyframes spin {\n",
              "    0% {\n",
              "      border-color: transparent;\n",
              "      border-bottom-color: var(--fill-color);\n",
              "      border-left-color: var(--fill-color);\n",
              "    }\n",
              "    20% {\n",
              "      border-color: transparent;\n",
              "      border-left-color: var(--fill-color);\n",
              "      border-top-color: var(--fill-color);\n",
              "    }\n",
              "    30% {\n",
              "      border-color: transparent;\n",
              "      border-left-color: var(--fill-color);\n",
              "      border-top-color: var(--fill-color);\n",
              "      border-right-color: var(--fill-color);\n",
              "    }\n",
              "    40% {\n",
              "      border-color: transparent;\n",
              "      border-right-color: var(--fill-color);\n",
              "      border-top-color: var(--fill-color);\n",
              "    }\n",
              "    60% {\n",
              "      border-color: transparent;\n",
              "      border-right-color: var(--fill-color);\n",
              "    }\n",
              "    80% {\n",
              "      border-color: transparent;\n",
              "      border-right-color: var(--fill-color);\n",
              "      border-bottom-color: var(--fill-color);\n",
              "    }\n",
              "    90% {\n",
              "      border-color: transparent;\n",
              "      border-bottom-color: var(--fill-color);\n",
              "    }\n",
              "  }\n",
              "</style>\n",
              "\n",
              "  <script>\n",
              "    async function quickchart(key) {\n",
              "      const quickchartButtonEl =\n",
              "        document.querySelector('#' + key + ' button');\n",
              "      quickchartButtonEl.disabled = true;  // To prevent multiple clicks.\n",
              "      quickchartButtonEl.classList.add('colab-df-spinner');\n",
              "      try {\n",
              "        const charts = await google.colab.kernel.invokeFunction(\n",
              "            'suggestCharts', [key], {});\n",
              "      } catch (error) {\n",
              "        console.error('Error during call to suggestCharts:', error);\n",
              "      }\n",
              "      quickchartButtonEl.classList.remove('colab-df-spinner');\n",
              "      quickchartButtonEl.classList.add('colab-df-quickchart-complete');\n",
              "    }\n",
              "    (() => {\n",
              "      let quickchartButtonEl =\n",
              "        document.querySelector('#df-aa12b6d2-fb15-4405-bddb-e1663ce6b870 button');\n",
              "      quickchartButtonEl.style.display =\n",
              "        google.colab.kernel.accessAllowed ? 'block' : 'none';\n",
              "    })();\n",
              "  </script>\n",
              "</div>\n",
              "    </div>\n",
              "  </div>\n"
            ]
          },
          "metadata": {},
          "execution_count": 21
        }
      ]
    },
    {
      "cell_type": "code",
      "source": [
        "all_data.shape"
      ],
      "metadata": {
        "colab": {
          "base_uri": "https://localhost:8080/"
        },
        "id": "F7faQWeIUfg0",
        "outputId": "4025c9dd-027e-46f0-fb15-bbe1290d9ef2"
      },
      "execution_count": 22,
      "outputs": [
        {
          "output_type": "execute_result",
          "data": {
            "text/plain": [
              "(36237, 3)"
            ]
          },
          "metadata": {},
          "execution_count": 22
        }
      ]
    },
    {
      "cell_type": "code",
      "source": [
        "X.head()"
      ],
      "metadata": {
        "colab": {
          "base_uri": "https://localhost:8080/",
          "height": 206
        },
        "id": "10S03-NpUjHs",
        "outputId": "c7caba26-2986-4c78-e241-2b0cd03f7097"
      },
      "execution_count": 23,
      "outputs": [
        {
          "output_type": "execute_result",
          "data": {
            "text/plain": [
              "                                              SMILES\n",
              "0  [H]\\N=C(N)\\N[C@@H](C1)[C@@H](NC(=O)C)[C@@H](C=...\n",
              "1  O=C(O)C1=C[C@H](N)[C@@H](NC(=O)C)[C@@H](C1)COC...\n",
              "2  C=CC(=O)N[C@H]([C@H](C1)N)[C@@H](C=C1C([O-])=O...\n",
              "3  CC(=O)N[C@H]([C@H](C1)N)[C@@H](C=C1C([O-])=O)O...\n",
              "4  O=C(O)c1c(O)c(=O)cc([nH]1)-c(c2C)ccc(c2)-c3noc..."
            ],
            "text/html": [
              "\n",
              "  <div id=\"df-927f63ec-4597-4f56-ae34-a05997273037\" class=\"colab-df-container\">\n",
              "    <div>\n",
              "<style scoped>\n",
              "    .dataframe tbody tr th:only-of-type {\n",
              "        vertical-align: middle;\n",
              "    }\n",
              "\n",
              "    .dataframe tbody tr th {\n",
              "        vertical-align: top;\n",
              "    }\n",
              "\n",
              "    .dataframe thead th {\n",
              "        text-align: right;\n",
              "    }\n",
              "</style>\n",
              "<table border=\"1\" class=\"dataframe\">\n",
              "  <thead>\n",
              "    <tr style=\"text-align: right;\">\n",
              "      <th></th>\n",
              "      <th>SMILES</th>\n",
              "    </tr>\n",
              "  </thead>\n",
              "  <tbody>\n",
              "    <tr>\n",
              "      <th>0</th>\n",
              "      <td>[H]\\N=C(N)\\N[C@@H](C1)[C@@H](NC(=O)C)[C@@H](C=...</td>\n",
              "    </tr>\n",
              "    <tr>\n",
              "      <th>1</th>\n",
              "      <td>O=C(O)C1=C[C@H](N)[C@@H](NC(=O)C)[C@@H](C1)COC...</td>\n",
              "    </tr>\n",
              "    <tr>\n",
              "      <th>2</th>\n",
              "      <td>C=CC(=O)N[C@H]([C@H](C1)N)[C@@H](C=C1C([O-])=O...</td>\n",
              "    </tr>\n",
              "    <tr>\n",
              "      <th>3</th>\n",
              "      <td>CC(=O)N[C@H]([C@H](C1)N)[C@@H](C=C1C([O-])=O)O...</td>\n",
              "    </tr>\n",
              "    <tr>\n",
              "      <th>4</th>\n",
              "      <td>O=C(O)c1c(O)c(=O)cc([nH]1)-c(c2C)ccc(c2)-c3noc...</td>\n",
              "    </tr>\n",
              "  </tbody>\n",
              "</table>\n",
              "</div>\n",
              "    <div class=\"colab-df-buttons\">\n",
              "\n",
              "  <div class=\"colab-df-container\">\n",
              "    <button class=\"colab-df-convert\" onclick=\"convertToInteractive('df-927f63ec-4597-4f56-ae34-a05997273037')\"\n",
              "            title=\"Convert this dataframe to an interactive table.\"\n",
              "            style=\"display:none;\">\n",
              "\n",
              "  <svg xmlns=\"http://www.w3.org/2000/svg\" height=\"24px\" viewBox=\"0 -960 960 960\">\n",
              "    <path d=\"M120-120v-720h720v720H120Zm60-500h600v-160H180v160Zm220 220h160v-160H400v160Zm0 220h160v-160H400v160ZM180-400h160v-160H180v160Zm440 0h160v-160H620v160ZM180-180h160v-160H180v160Zm440 0h160v-160H620v160Z\"/>\n",
              "  </svg>\n",
              "    </button>\n",
              "\n",
              "  <style>\n",
              "    .colab-df-container {\n",
              "      display:flex;\n",
              "      gap: 12px;\n",
              "    }\n",
              "\n",
              "    .colab-df-convert {\n",
              "      background-color: #E8F0FE;\n",
              "      border: none;\n",
              "      border-radius: 50%;\n",
              "      cursor: pointer;\n",
              "      display: none;\n",
              "      fill: #1967D2;\n",
              "      height: 32px;\n",
              "      padding: 0 0 0 0;\n",
              "      width: 32px;\n",
              "    }\n",
              "\n",
              "    .colab-df-convert:hover {\n",
              "      background-color: #E2EBFA;\n",
              "      box-shadow: 0px 1px 2px rgba(60, 64, 67, 0.3), 0px 1px 3px 1px rgba(60, 64, 67, 0.15);\n",
              "      fill: #174EA6;\n",
              "    }\n",
              "\n",
              "    .colab-df-buttons div {\n",
              "      margin-bottom: 4px;\n",
              "    }\n",
              "\n",
              "    [theme=dark] .colab-df-convert {\n",
              "      background-color: #3B4455;\n",
              "      fill: #D2E3FC;\n",
              "    }\n",
              "\n",
              "    [theme=dark] .colab-df-convert:hover {\n",
              "      background-color: #434B5C;\n",
              "      box-shadow: 0px 1px 3px 1px rgba(0, 0, 0, 0.15);\n",
              "      filter: drop-shadow(0px 1px 2px rgba(0, 0, 0, 0.3));\n",
              "      fill: #FFFFFF;\n",
              "    }\n",
              "  </style>\n",
              "\n",
              "    <script>\n",
              "      const buttonEl =\n",
              "        document.querySelector('#df-927f63ec-4597-4f56-ae34-a05997273037 button.colab-df-convert');\n",
              "      buttonEl.style.display =\n",
              "        google.colab.kernel.accessAllowed ? 'block' : 'none';\n",
              "\n",
              "      async function convertToInteractive(key) {\n",
              "        const element = document.querySelector('#df-927f63ec-4597-4f56-ae34-a05997273037');\n",
              "        const dataTable =\n",
              "          await google.colab.kernel.invokeFunction('convertToInteractive',\n",
              "                                                    [key], {});\n",
              "        if (!dataTable) return;\n",
              "\n",
              "        const docLinkHtml = 'Like what you see? Visit the ' +\n",
              "          '<a target=\"_blank\" href=https://colab.research.google.com/notebooks/data_table.ipynb>data table notebook</a>'\n",
              "          + ' to learn more about interactive tables.';\n",
              "        element.innerHTML = '';\n",
              "        dataTable['output_type'] = 'display_data';\n",
              "        await google.colab.output.renderOutput(dataTable, element);\n",
              "        const docLink = document.createElement('div');\n",
              "        docLink.innerHTML = docLinkHtml;\n",
              "        element.appendChild(docLink);\n",
              "      }\n",
              "    </script>\n",
              "  </div>\n",
              "\n",
              "\n",
              "<div id=\"df-c10d87e1-14ee-4642-b3f8-fa7b9f004b79\">\n",
              "  <button class=\"colab-df-quickchart\" onclick=\"quickchart('df-c10d87e1-14ee-4642-b3f8-fa7b9f004b79')\"\n",
              "            title=\"Suggest charts.\"\n",
              "            style=\"display:none;\">\n",
              "\n",
              "<svg xmlns=\"http://www.w3.org/2000/svg\" height=\"24px\"viewBox=\"0 0 24 24\"\n",
              "     width=\"24px\">\n",
              "    <g>\n",
              "        <path d=\"M19 3H5c-1.1 0-2 .9-2 2v14c0 1.1.9 2 2 2h14c1.1 0 2-.9 2-2V5c0-1.1-.9-2-2-2zM9 17H7v-7h2v7zm4 0h-2V7h2v10zm4 0h-2v-4h2v4z\"/>\n",
              "    </g>\n",
              "</svg>\n",
              "  </button>\n",
              "\n",
              "<style>\n",
              "  .colab-df-quickchart {\n",
              "      --bg-color: #E8F0FE;\n",
              "      --fill-color: #1967D2;\n",
              "      --hover-bg-color: #E2EBFA;\n",
              "      --hover-fill-color: #174EA6;\n",
              "      --disabled-fill-color: #AAA;\n",
              "      --disabled-bg-color: #DDD;\n",
              "  }\n",
              "\n",
              "  [theme=dark] .colab-df-quickchart {\n",
              "      --bg-color: #3B4455;\n",
              "      --fill-color: #D2E3FC;\n",
              "      --hover-bg-color: #434B5C;\n",
              "      --hover-fill-color: #FFFFFF;\n",
              "      --disabled-bg-color: #3B4455;\n",
              "      --disabled-fill-color: #666;\n",
              "  }\n",
              "\n",
              "  .colab-df-quickchart {\n",
              "    background-color: var(--bg-color);\n",
              "    border: none;\n",
              "    border-radius: 50%;\n",
              "    cursor: pointer;\n",
              "    display: none;\n",
              "    fill: var(--fill-color);\n",
              "    height: 32px;\n",
              "    padding: 0;\n",
              "    width: 32px;\n",
              "  }\n",
              "\n",
              "  .colab-df-quickchart:hover {\n",
              "    background-color: var(--hover-bg-color);\n",
              "    box-shadow: 0 1px 2px rgba(60, 64, 67, 0.3), 0 1px 3px 1px rgba(60, 64, 67, 0.15);\n",
              "    fill: var(--button-hover-fill-color);\n",
              "  }\n",
              "\n",
              "  .colab-df-quickchart-complete:disabled,\n",
              "  .colab-df-quickchart-complete:disabled:hover {\n",
              "    background-color: var(--disabled-bg-color);\n",
              "    fill: var(--disabled-fill-color);\n",
              "    box-shadow: none;\n",
              "  }\n",
              "\n",
              "  .colab-df-spinner {\n",
              "    border: 2px solid var(--fill-color);\n",
              "    border-color: transparent;\n",
              "    border-bottom-color: var(--fill-color);\n",
              "    animation:\n",
              "      spin 1s steps(1) infinite;\n",
              "  }\n",
              "\n",
              "  @keyframes spin {\n",
              "    0% {\n",
              "      border-color: transparent;\n",
              "      border-bottom-color: var(--fill-color);\n",
              "      border-left-color: var(--fill-color);\n",
              "    }\n",
              "    20% {\n",
              "      border-color: transparent;\n",
              "      border-left-color: var(--fill-color);\n",
              "      border-top-color: var(--fill-color);\n",
              "    }\n",
              "    30% {\n",
              "      border-color: transparent;\n",
              "      border-left-color: var(--fill-color);\n",
              "      border-top-color: var(--fill-color);\n",
              "      border-right-color: var(--fill-color);\n",
              "    }\n",
              "    40% {\n",
              "      border-color: transparent;\n",
              "      border-right-color: var(--fill-color);\n",
              "      border-top-color: var(--fill-color);\n",
              "    }\n",
              "    60% {\n",
              "      border-color: transparent;\n",
              "      border-right-color: var(--fill-color);\n",
              "    }\n",
              "    80% {\n",
              "      border-color: transparent;\n",
              "      border-right-color: var(--fill-color);\n",
              "      border-bottom-color: var(--fill-color);\n",
              "    }\n",
              "    90% {\n",
              "      border-color: transparent;\n",
              "      border-bottom-color: var(--fill-color);\n",
              "    }\n",
              "  }\n",
              "</style>\n",
              "\n",
              "  <script>\n",
              "    async function quickchart(key) {\n",
              "      const quickchartButtonEl =\n",
              "        document.querySelector('#' + key + ' button');\n",
              "      quickchartButtonEl.disabled = true;  // To prevent multiple clicks.\n",
              "      quickchartButtonEl.classList.add('colab-df-spinner');\n",
              "      try {\n",
              "        const charts = await google.colab.kernel.invokeFunction(\n",
              "            'suggestCharts', [key], {});\n",
              "      } catch (error) {\n",
              "        console.error('Error during call to suggestCharts:', error);\n",
              "      }\n",
              "      quickchartButtonEl.classList.remove('colab-df-spinner');\n",
              "      quickchartButtonEl.classList.add('colab-df-quickchart-complete');\n",
              "    }\n",
              "    (() => {\n",
              "      let quickchartButtonEl =\n",
              "        document.querySelector('#df-c10d87e1-14ee-4642-b3f8-fa7b9f004b79 button');\n",
              "      quickchartButtonEl.style.display =\n",
              "        google.colab.kernel.accessAllowed ? 'block' : 'none';\n",
              "    })();\n",
              "  </script>\n",
              "</div>\n",
              "    </div>\n",
              "  </div>\n"
            ]
          },
          "metadata": {},
          "execution_count": 23
        }
      ]
    },
    {
      "cell_type": "code",
      "source": [
        "from rdkit import Chem\n",
        "def RDKfingerPrint(mol_smi, **kwargs):\n",
        "    mol = Chem.MolFromSmiles(mol_smi)\n",
        "    desc_vec = np.zeros((1,), dtype=int)\n",
        "    DataStructs.ConvertToNumpyArray(AllChem.RDKFingerprint(mol, **kwargs), desc_vec)\n",
        "    return desc_vec"
      ],
      "metadata": {
        "id": "m2J_Un9OyQFM"
      },
      "execution_count": 24,
      "outputs": []
    },
    {
      "cell_type": "code",
      "source": [
        "fp =[]\n",
        "for semp in all_data['SMILES']:\n",
        "  fp.append(RDKfingerPrint(semp, maxPath=5))\n",
        "\n",
        "fp = pd.DataFrame(fp)\n",
        "\n",
        "\n",
        "X = fp#pd.merge(X, fp, left_index = True, right_index=True)"
      ],
      "metadata": {
        "id": "ZFfQ_-9_2RgH",
        "colab": {
          "base_uri": "https://localhost:8080/"
        },
        "outputId": "e04259ac-e0db-4ed4-9e73-8a0c0e21e55d"
      },
      "execution_count": 27,
      "outputs": [
        {
          "output_type": "stream",
          "name": "stderr",
          "text": [
            "[10:19:24] Conflicting single bond directions around double bond at index 55.\n",
            "[10:19:24]   BondStereo set to STEREONONE and single bond directions set to NONE.\n",
            "[10:19:56] Conflicting single bond directions around double bond at index 7.\n",
            "[10:19:56]   BondStereo set to STEREONONE and single bond directions set to NONE.\n"
          ]
        }
      ]
    },
    {
      "cell_type": "code",
      "source": [
        "#X = X.drop(columns=  [\"SMILES\"])"
      ],
      "metadata": {
        "id": "f94Niexb3uDl"
      },
      "execution_count": 28,
      "outputs": []
    },
    {
      "cell_type": "code",
      "source": [
        "X.head()"
      ],
      "metadata": {
        "id": "hPYrvsnf4ClD",
        "colab": {
          "base_uri": "https://localhost:8080/",
          "height": 236
        },
        "outputId": "6e6ffd2c-541c-4330-c211-3bbdc5e928e1"
      },
      "execution_count": 29,
      "outputs": [
        {
          "output_type": "execute_result",
          "data": {
            "text/plain": [
              "   0     1     2     3     4     5     6     7     8     9     ...  2038  \\\n",
              "0     0     1     0     0     0     0     0     0     0     0  ...     0   \n",
              "1     0     0     0     0     0     0     0     0     1     0  ...     0   \n",
              "2     0     0     1     0     0     0     0     0     1     0  ...     0   \n",
              "3     0     0     0     0     0     0     0     0     1     0  ...     0   \n",
              "4     1     1     1     0     0     1     0     0     0     0  ...     1   \n",
              "\n",
              "   2039  2040  2041  2042  2043  2044  2045  2046  2047  \n",
              "0     0     0     0     0     0     0     0     0     1  \n",
              "1     0     0     0     0     0     0     0     0     1  \n",
              "2     0     0     0     0     0     0     0     0     1  \n",
              "3     0     0     0     0     0     0     0     0     1  \n",
              "4     0     0     1     0     0     0     0     0     0  \n",
              "\n",
              "[5 rows x 2048 columns]"
            ],
            "text/html": [
              "\n",
              "  <div id=\"df-d0db6428-cd0c-4d42-ab3b-eaeabdf8dac5\" class=\"colab-df-container\">\n",
              "    <div>\n",
              "<style scoped>\n",
              "    .dataframe tbody tr th:only-of-type {\n",
              "        vertical-align: middle;\n",
              "    }\n",
              "\n",
              "    .dataframe tbody tr th {\n",
              "        vertical-align: top;\n",
              "    }\n",
              "\n",
              "    .dataframe thead th {\n",
              "        text-align: right;\n",
              "    }\n",
              "</style>\n",
              "<table border=\"1\" class=\"dataframe\">\n",
              "  <thead>\n",
              "    <tr style=\"text-align: right;\">\n",
              "      <th></th>\n",
              "      <th>0</th>\n",
              "      <th>1</th>\n",
              "      <th>2</th>\n",
              "      <th>3</th>\n",
              "      <th>4</th>\n",
              "      <th>5</th>\n",
              "      <th>6</th>\n",
              "      <th>7</th>\n",
              "      <th>8</th>\n",
              "      <th>9</th>\n",
              "      <th>...</th>\n",
              "      <th>2038</th>\n",
              "      <th>2039</th>\n",
              "      <th>2040</th>\n",
              "      <th>2041</th>\n",
              "      <th>2042</th>\n",
              "      <th>2043</th>\n",
              "      <th>2044</th>\n",
              "      <th>2045</th>\n",
              "      <th>2046</th>\n",
              "      <th>2047</th>\n",
              "    </tr>\n",
              "  </thead>\n",
              "  <tbody>\n",
              "    <tr>\n",
              "      <th>0</th>\n",
              "      <td>0</td>\n",
              "      <td>1</td>\n",
              "      <td>0</td>\n",
              "      <td>0</td>\n",
              "      <td>0</td>\n",
              "      <td>0</td>\n",
              "      <td>0</td>\n",
              "      <td>0</td>\n",
              "      <td>0</td>\n",
              "      <td>0</td>\n",
              "      <td>...</td>\n",
              "      <td>0</td>\n",
              "      <td>0</td>\n",
              "      <td>0</td>\n",
              "      <td>0</td>\n",
              "      <td>0</td>\n",
              "      <td>0</td>\n",
              "      <td>0</td>\n",
              "      <td>0</td>\n",
              "      <td>0</td>\n",
              "      <td>1</td>\n",
              "    </tr>\n",
              "    <tr>\n",
              "      <th>1</th>\n",
              "      <td>0</td>\n",
              "      <td>0</td>\n",
              "      <td>0</td>\n",
              "      <td>0</td>\n",
              "      <td>0</td>\n",
              "      <td>0</td>\n",
              "      <td>0</td>\n",
              "      <td>0</td>\n",
              "      <td>1</td>\n",
              "      <td>0</td>\n",
              "      <td>...</td>\n",
              "      <td>0</td>\n",
              "      <td>0</td>\n",
              "      <td>0</td>\n",
              "      <td>0</td>\n",
              "      <td>0</td>\n",
              "      <td>0</td>\n",
              "      <td>0</td>\n",
              "      <td>0</td>\n",
              "      <td>0</td>\n",
              "      <td>1</td>\n",
              "    </tr>\n",
              "    <tr>\n",
              "      <th>2</th>\n",
              "      <td>0</td>\n",
              "      <td>0</td>\n",
              "      <td>1</td>\n",
              "      <td>0</td>\n",
              "      <td>0</td>\n",
              "      <td>0</td>\n",
              "      <td>0</td>\n",
              "      <td>0</td>\n",
              "      <td>1</td>\n",
              "      <td>0</td>\n",
              "      <td>...</td>\n",
              "      <td>0</td>\n",
              "      <td>0</td>\n",
              "      <td>0</td>\n",
              "      <td>0</td>\n",
              "      <td>0</td>\n",
              "      <td>0</td>\n",
              "      <td>0</td>\n",
              "      <td>0</td>\n",
              "      <td>0</td>\n",
              "      <td>1</td>\n",
              "    </tr>\n",
              "    <tr>\n",
              "      <th>3</th>\n",
              "      <td>0</td>\n",
              "      <td>0</td>\n",
              "      <td>0</td>\n",
              "      <td>0</td>\n",
              "      <td>0</td>\n",
              "      <td>0</td>\n",
              "      <td>0</td>\n",
              "      <td>0</td>\n",
              "      <td>1</td>\n",
              "      <td>0</td>\n",
              "      <td>...</td>\n",
              "      <td>0</td>\n",
              "      <td>0</td>\n",
              "      <td>0</td>\n",
              "      <td>0</td>\n",
              "      <td>0</td>\n",
              "      <td>0</td>\n",
              "      <td>0</td>\n",
              "      <td>0</td>\n",
              "      <td>0</td>\n",
              "      <td>1</td>\n",
              "    </tr>\n",
              "    <tr>\n",
              "      <th>4</th>\n",
              "      <td>1</td>\n",
              "      <td>1</td>\n",
              "      <td>1</td>\n",
              "      <td>0</td>\n",
              "      <td>0</td>\n",
              "      <td>1</td>\n",
              "      <td>0</td>\n",
              "      <td>0</td>\n",
              "      <td>0</td>\n",
              "      <td>0</td>\n",
              "      <td>...</td>\n",
              "      <td>1</td>\n",
              "      <td>0</td>\n",
              "      <td>0</td>\n",
              "      <td>1</td>\n",
              "      <td>0</td>\n",
              "      <td>0</td>\n",
              "      <td>0</td>\n",
              "      <td>0</td>\n",
              "      <td>0</td>\n",
              "      <td>0</td>\n",
              "    </tr>\n",
              "  </tbody>\n",
              "</table>\n",
              "<p>5 rows × 2048 columns</p>\n",
              "</div>\n",
              "    <div class=\"colab-df-buttons\">\n",
              "\n",
              "  <div class=\"colab-df-container\">\n",
              "    <button class=\"colab-df-convert\" onclick=\"convertToInteractive('df-d0db6428-cd0c-4d42-ab3b-eaeabdf8dac5')\"\n",
              "            title=\"Convert this dataframe to an interactive table.\"\n",
              "            style=\"display:none;\">\n",
              "\n",
              "  <svg xmlns=\"http://www.w3.org/2000/svg\" height=\"24px\" viewBox=\"0 -960 960 960\">\n",
              "    <path d=\"M120-120v-720h720v720H120Zm60-500h600v-160H180v160Zm220 220h160v-160H400v160Zm0 220h160v-160H400v160ZM180-400h160v-160H180v160Zm440 0h160v-160H620v160ZM180-180h160v-160H180v160Zm440 0h160v-160H620v160Z\"/>\n",
              "  </svg>\n",
              "    </button>\n",
              "\n",
              "  <style>\n",
              "    .colab-df-container {\n",
              "      display:flex;\n",
              "      gap: 12px;\n",
              "    }\n",
              "\n",
              "    .colab-df-convert {\n",
              "      background-color: #E8F0FE;\n",
              "      border: none;\n",
              "      border-radius: 50%;\n",
              "      cursor: pointer;\n",
              "      display: none;\n",
              "      fill: #1967D2;\n",
              "      height: 32px;\n",
              "      padding: 0 0 0 0;\n",
              "      width: 32px;\n",
              "    }\n",
              "\n",
              "    .colab-df-convert:hover {\n",
              "      background-color: #E2EBFA;\n",
              "      box-shadow: 0px 1px 2px rgba(60, 64, 67, 0.3), 0px 1px 3px 1px rgba(60, 64, 67, 0.15);\n",
              "      fill: #174EA6;\n",
              "    }\n",
              "\n",
              "    .colab-df-buttons div {\n",
              "      margin-bottom: 4px;\n",
              "    }\n",
              "\n",
              "    [theme=dark] .colab-df-convert {\n",
              "      background-color: #3B4455;\n",
              "      fill: #D2E3FC;\n",
              "    }\n",
              "\n",
              "    [theme=dark] .colab-df-convert:hover {\n",
              "      background-color: #434B5C;\n",
              "      box-shadow: 0px 1px 3px 1px rgba(0, 0, 0, 0.15);\n",
              "      filter: drop-shadow(0px 1px 2px rgba(0, 0, 0, 0.3));\n",
              "      fill: #FFFFFF;\n",
              "    }\n",
              "  </style>\n",
              "\n",
              "    <script>\n",
              "      const buttonEl =\n",
              "        document.querySelector('#df-d0db6428-cd0c-4d42-ab3b-eaeabdf8dac5 button.colab-df-convert');\n",
              "      buttonEl.style.display =\n",
              "        google.colab.kernel.accessAllowed ? 'block' : 'none';\n",
              "\n",
              "      async function convertToInteractive(key) {\n",
              "        const element = document.querySelector('#df-d0db6428-cd0c-4d42-ab3b-eaeabdf8dac5');\n",
              "        const dataTable =\n",
              "          await google.colab.kernel.invokeFunction('convertToInteractive',\n",
              "                                                    [key], {});\n",
              "        if (!dataTable) return;\n",
              "\n",
              "        const docLinkHtml = 'Like what you see? Visit the ' +\n",
              "          '<a target=\"_blank\" href=https://colab.research.google.com/notebooks/data_table.ipynb>data table notebook</a>'\n",
              "          + ' to learn more about interactive tables.';\n",
              "        element.innerHTML = '';\n",
              "        dataTable['output_type'] = 'display_data';\n",
              "        await google.colab.output.renderOutput(dataTable, element);\n",
              "        const docLink = document.createElement('div');\n",
              "        docLink.innerHTML = docLinkHtml;\n",
              "        element.appendChild(docLink);\n",
              "      }\n",
              "    </script>\n",
              "  </div>\n",
              "\n",
              "\n",
              "<div id=\"df-e2d5748d-dac3-4065-9e6b-c65e352ccefc\">\n",
              "  <button class=\"colab-df-quickchart\" onclick=\"quickchart('df-e2d5748d-dac3-4065-9e6b-c65e352ccefc')\"\n",
              "            title=\"Suggest charts.\"\n",
              "            style=\"display:none;\">\n",
              "\n",
              "<svg xmlns=\"http://www.w3.org/2000/svg\" height=\"24px\"viewBox=\"0 0 24 24\"\n",
              "     width=\"24px\">\n",
              "    <g>\n",
              "        <path d=\"M19 3H5c-1.1 0-2 .9-2 2v14c0 1.1.9 2 2 2h14c1.1 0 2-.9 2-2V5c0-1.1-.9-2-2-2zM9 17H7v-7h2v7zm4 0h-2V7h2v10zm4 0h-2v-4h2v4z\"/>\n",
              "    </g>\n",
              "</svg>\n",
              "  </button>\n",
              "\n",
              "<style>\n",
              "  .colab-df-quickchart {\n",
              "      --bg-color: #E8F0FE;\n",
              "      --fill-color: #1967D2;\n",
              "      --hover-bg-color: #E2EBFA;\n",
              "      --hover-fill-color: #174EA6;\n",
              "      --disabled-fill-color: #AAA;\n",
              "      --disabled-bg-color: #DDD;\n",
              "  }\n",
              "\n",
              "  [theme=dark] .colab-df-quickchart {\n",
              "      --bg-color: #3B4455;\n",
              "      --fill-color: #D2E3FC;\n",
              "      --hover-bg-color: #434B5C;\n",
              "      --hover-fill-color: #FFFFFF;\n",
              "      --disabled-bg-color: #3B4455;\n",
              "      --disabled-fill-color: #666;\n",
              "  }\n",
              "\n",
              "  .colab-df-quickchart {\n",
              "    background-color: var(--bg-color);\n",
              "    border: none;\n",
              "    border-radius: 50%;\n",
              "    cursor: pointer;\n",
              "    display: none;\n",
              "    fill: var(--fill-color);\n",
              "    height: 32px;\n",
              "    padding: 0;\n",
              "    width: 32px;\n",
              "  }\n",
              "\n",
              "  .colab-df-quickchart:hover {\n",
              "    background-color: var(--hover-bg-color);\n",
              "    box-shadow: 0 1px 2px rgba(60, 64, 67, 0.3), 0 1px 3px 1px rgba(60, 64, 67, 0.15);\n",
              "    fill: var(--button-hover-fill-color);\n",
              "  }\n",
              "\n",
              "  .colab-df-quickchart-complete:disabled,\n",
              "  .colab-df-quickchart-complete:disabled:hover {\n",
              "    background-color: var(--disabled-bg-color);\n",
              "    fill: var(--disabled-fill-color);\n",
              "    box-shadow: none;\n",
              "  }\n",
              "\n",
              "  .colab-df-spinner {\n",
              "    border: 2px solid var(--fill-color);\n",
              "    border-color: transparent;\n",
              "    border-bottom-color: var(--fill-color);\n",
              "    animation:\n",
              "      spin 1s steps(1) infinite;\n",
              "  }\n",
              "\n",
              "  @keyframes spin {\n",
              "    0% {\n",
              "      border-color: transparent;\n",
              "      border-bottom-color: var(--fill-color);\n",
              "      border-left-color: var(--fill-color);\n",
              "    }\n",
              "    20% {\n",
              "      border-color: transparent;\n",
              "      border-left-color: var(--fill-color);\n",
              "      border-top-color: var(--fill-color);\n",
              "    }\n",
              "    30% {\n",
              "      border-color: transparent;\n",
              "      border-left-color: var(--fill-color);\n",
              "      border-top-color: var(--fill-color);\n",
              "      border-right-color: var(--fill-color);\n",
              "    }\n",
              "    40% {\n",
              "      border-color: transparent;\n",
              "      border-right-color: var(--fill-color);\n",
              "      border-top-color: var(--fill-color);\n",
              "    }\n",
              "    60% {\n",
              "      border-color: transparent;\n",
              "      border-right-color: var(--fill-color);\n",
              "    }\n",
              "    80% {\n",
              "      border-color: transparent;\n",
              "      border-right-color: var(--fill-color);\n",
              "      border-bottom-color: var(--fill-color);\n",
              "    }\n",
              "    90% {\n",
              "      border-color: transparent;\n",
              "      border-bottom-color: var(--fill-color);\n",
              "    }\n",
              "  }\n",
              "</style>\n",
              "\n",
              "  <script>\n",
              "    async function quickchart(key) {\n",
              "      const quickchartButtonEl =\n",
              "        document.querySelector('#' + key + ' button');\n",
              "      quickchartButtonEl.disabled = true;  // To prevent multiple clicks.\n",
              "      quickchartButtonEl.classList.add('colab-df-spinner');\n",
              "      try {\n",
              "        const charts = await google.colab.kernel.invokeFunction(\n",
              "            'suggestCharts', [key], {});\n",
              "      } catch (error) {\n",
              "        console.error('Error during call to suggestCharts:', error);\n",
              "      }\n",
              "      quickchartButtonEl.classList.remove('colab-df-spinner');\n",
              "      quickchartButtonEl.classList.add('colab-df-quickchart-complete');\n",
              "    }\n",
              "    (() => {\n",
              "      let quickchartButtonEl =\n",
              "        document.querySelector('#df-e2d5748d-dac3-4065-9e6b-c65e352ccefc button');\n",
              "      quickchartButtonEl.style.display =\n",
              "        google.colab.kernel.accessAllowed ? 'block' : 'none';\n",
              "    })();\n",
              "  </script>\n",
              "</div>\n",
              "    </div>\n",
              "  </div>\n"
            ]
          },
          "metadata": {},
          "execution_count": 29
        }
      ]
    },
    {
      "cell_type": "code",
      "source": [
        "x_train, x_test, y_train, y_test = train_test_split(X, y, random_state=42)"
      ],
      "metadata": {
        "id": "g8sTsgN-S7HQ"
      },
      "execution_count": 58,
      "outputs": []
    },
    {
      "cell_type": "markdown",
      "metadata": {
        "id": "FaxQEJNPINzd"
      },
      "source": [
        "**Просмотр данных**"
      ]
    },
    {
      "cell_type": "code",
      "metadata": {
        "id": "P2PIN2kNoA5I"
      },
      "source": [
        "min_y = y_train.min()\n",
        "max_y = y_train.max()"
      ],
      "execution_count": 59,
      "outputs": []
    },
    {
      "cell_type": "code",
      "metadata": {
        "id": "4QFcu4ZsLMtS",
        "colab": {
          "base_uri": "https://localhost:8080/"
        },
        "outputId": "2ffb2d95-ffc5-4dd0-be14-be4bac8f3bfb"
      },
      "source": [
        "print(y_train.min())\n",
        "print(y_train.max())"
      ],
      "execution_count": 60,
      "outputs": [
        {
          "output_type": "stream",
          "name": "stdout",
          "text": [
            "9.97e-06\n",
            "500.0\n"
          ]
        }
      ]
    },
    {
      "cell_type": "markdown",
      "metadata": {
        "id": "RmlSp15AK_JG"
      },
      "source": [
        "## Создаем нейронную сеть\n",
        "\n"
      ]
    },
    {
      "cell_type": "code",
      "metadata": {
        "id": "YnCnMQ91LCKV"
      },
      "source": [
        "model = Sequential()\n",
        "model.add(Dense(987, activation='relu', input_shape=(x_train.shape[1],)))\n",
        "model.add(Dense(64, activation='relu'))\n",
        "model.add(Dense(1000, activation='relu'))\n",
        "model.add(Dense(64, activation='relu'))\n",
        "model.add(Dense(1000, activation='relu'))\n",
        "model.add(Dense(500, activation='relu'))\n",
        "model.add(Dense(64, activation='relu'))\n",
        "#model.add(tf.keras.layers.Dropout(0.1))\n",
        "#model.add(Dense(100, activation='softmax'))\n",
        "model.add(Dense(1))#, activation='sigmoid')) # sigmoid, т.к. данные от 0 до 1"
      ],
      "execution_count": 61,
      "outputs": []
    },
    {
      "cell_type": "code",
      "metadata": {
        "id": "kFAVtJ1Z5jhy",
        "colab": {
          "base_uri": "https://localhost:8080/"
        },
        "outputId": "640bed59-33dc-4dd3-dba1-076782e7ee92"
      },
      "source": [
        "print(model.summary()) # архитектура нашей модели"
      ],
      "execution_count": 62,
      "outputs": [
        {
          "output_type": "stream",
          "name": "stdout",
          "text": [
            "Model: \"sequential_1\"\n",
            "_________________________________________________________________\n",
            " Layer (type)                Output Shape              Param #   \n",
            "=================================================================\n",
            " dense_8 (Dense)             (None, 987)               2022363   \n",
            "                                                                 \n",
            " dense_9 (Dense)             (None, 64)                63232     \n",
            "                                                                 \n",
            " dense_10 (Dense)            (None, 1000)              65000     \n",
            "                                                                 \n",
            " dense_11 (Dense)            (None, 64)                64064     \n",
            "                                                                 \n",
            " dense_12 (Dense)            (None, 1000)              65000     \n",
            "                                                                 \n",
            " dense_13 (Dense)            (None, 500)               500500    \n",
            "                                                                 \n",
            " dense_14 (Dense)            (None, 64)                32064     \n",
            "                                                                 \n",
            " dense_15 (Dense)            (None, 1)                 65        \n",
            "                                                                 \n",
            "=================================================================\n",
            "Total params: 2812288 (10.73 MB)\n",
            "Trainable params: 2812288 (10.73 MB)\n",
            "Non-trainable params: 0 (0.00 Byte)\n",
            "_________________________________________________________________\n",
            "None\n"
          ]
        }
      ]
    },
    {
      "cell_type": "markdown",
      "metadata": {
        "id": "F3g-CAK5LPx1"
      },
      "source": [
        "**Компилируем сеть**\n",
        "\n",
        "Функция ошибки - среднеквадратичное отклонение. Метрика - среднее абсолютное отклонение."
      ]
    },
    {
      "cell_type": "code",
      "metadata": {
        "id": "WOdqoaTkLNCe"
      },
      "source": [
        "model.compile(optimizer='rmsprop', loss='mse', metrics=['mae'])"
      ],
      "execution_count": 63,
      "outputs": []
    },
    {
      "cell_type": "markdown",
      "metadata": {
        "id": "cuE2Ekt1LeUW"
      },
      "source": [
        "## Обучаем нейронную сеть\n",
        "\n"
      ]
    },
    {
      "cell_type": "code",
      "metadata": {
        "id": "1EcFPWZcLmRl",
        "colab": {
          "base_uri": "https://localhost:8080/"
        },
        "outputId": "abb05384-4e5a-4e7e-c552-9d8dc134991e"
      },
      "source": [
        "x_train = np.asarray(x_train).astype(np.float32)\n",
        "y_train = np.asarray(y_train).astype(np.float32)\n",
        "history = model.fit(x_train,\n",
        "                    y_train,\n",
        "                    epochs=50,\n",
        "                    validation_split=0.1,\n",
        "                    verbose=2)"
      ],
      "execution_count": 74,
      "outputs": [
        {
          "output_type": "stream",
          "name": "stdout",
          "text": [
            "Epoch 1/50\n",
            "765/765 - 3s - loss: 141.8907 - mae: 3.7289 - val_loss: 272.5959 - val_mae: 4.5024 - 3s/epoch - 4ms/step\n",
            "Epoch 2/50\n",
            "765/765 - 3s - loss: 135.0419 - mae: 3.6947 - val_loss: 198.6111 - val_mae: 4.1847 - 3s/epoch - 4ms/step\n",
            "Epoch 3/50\n",
            "765/765 - 3s - loss: 144.9891 - mae: 3.7133 - val_loss: 208.7951 - val_mae: 4.2482 - 3s/epoch - 4ms/step\n",
            "Epoch 4/50\n",
            "765/765 - 3s - loss: 134.2787 - mae: 3.6709 - val_loss: 198.6085 - val_mae: 4.2743 - 3s/epoch - 4ms/step\n",
            "Epoch 5/50\n",
            "765/765 - 3s - loss: 136.8853 - mae: 3.7047 - val_loss: 230.5180 - val_mae: 4.7356 - 3s/epoch - 4ms/step\n",
            "Epoch 6/50\n",
            "765/765 - 3s - loss: 137.3413 - mae: 3.7099 - val_loss: 203.2750 - val_mae: 4.3467 - 3s/epoch - 4ms/step\n",
            "Epoch 7/50\n",
            "765/765 - 3s - loss: 136.2943 - mae: 3.6742 - val_loss: 217.4838 - val_mae: 4.2634 - 3s/epoch - 4ms/step\n",
            "Epoch 8/50\n",
            "765/765 - 3s - loss: 130.5720 - mae: 3.6422 - val_loss: 182.0080 - val_mae: 4.1645 - 3s/epoch - 4ms/step\n",
            "Epoch 9/50\n",
            "765/765 - 3s - loss: 130.2863 - mae: 3.6420 - val_loss: 169.9933 - val_mae: 3.9825 - 3s/epoch - 4ms/step\n",
            "Epoch 10/50\n",
            "765/765 - 4s - loss: 133.5714 - mae: 3.6429 - val_loss: 192.2505 - val_mae: 4.3130 - 4s/epoch - 5ms/step\n",
            "Epoch 11/50\n",
            "765/765 - 3s - loss: 129.2851 - mae: 3.6146 - val_loss: 193.1334 - val_mae: 4.3536 - 3s/epoch - 4ms/step\n",
            "Epoch 12/50\n",
            "765/765 - 3s - loss: 130.0595 - mae: 3.6231 - val_loss: 244.1598 - val_mae: 4.2514 - 3s/epoch - 4ms/step\n",
            "Epoch 13/50\n",
            "765/765 - 3s - loss: 125.9074 - mae: 3.5966 - val_loss: 204.0345 - val_mae: 4.3219 - 3s/epoch - 4ms/step\n",
            "Epoch 14/50\n",
            "765/765 - 3s - loss: 130.6548 - mae: 3.6028 - val_loss: 200.5901 - val_mae: 4.1938 - 3s/epoch - 4ms/step\n",
            "Epoch 15/50\n",
            "765/765 - 3s - loss: 125.5078 - mae: 3.5711 - val_loss: 186.6407 - val_mae: 4.0835 - 3s/epoch - 4ms/step\n",
            "Epoch 16/50\n",
            "765/765 - 3s - loss: 125.2559 - mae: 3.6070 - val_loss: 215.1794 - val_mae: 4.2175 - 3s/epoch - 4ms/step\n",
            "Epoch 17/50\n",
            "765/765 - 3s - loss: 130.6088 - mae: 3.5068 - val_loss: 186.1679 - val_mae: 4.0500 - 3s/epoch - 4ms/step\n",
            "Epoch 18/50\n",
            "765/765 - 3s - loss: 127.4164 - mae: 3.5085 - val_loss: 208.0435 - val_mae: 3.9989 - 3s/epoch - 4ms/step\n",
            "Epoch 19/50\n",
            "765/765 - 3s - loss: 126.5568 - mae: 3.5062 - val_loss: 179.9758 - val_mae: 3.8745 - 3s/epoch - 4ms/step\n",
            "Epoch 20/50\n",
            "765/765 - 3s - loss: 123.2128 - mae: 3.5253 - val_loss: 300.7128 - val_mae: 4.4354 - 3s/epoch - 4ms/step\n",
            "Epoch 21/50\n",
            "765/765 - 3s - loss: 127.6095 - mae: 3.5129 - val_loss: 222.3317 - val_mae: 4.0839 - 3s/epoch - 4ms/step\n",
            "Epoch 22/50\n",
            "765/765 - 3s - loss: 126.2741 - mae: 3.4494 - val_loss: 199.3511 - val_mae: 4.2482 - 3s/epoch - 4ms/step\n",
            "Epoch 23/50\n",
            "765/765 - 3s - loss: 119.5862 - mae: 3.4407 - val_loss: 177.5330 - val_mae: 3.8931 - 3s/epoch - 4ms/step\n",
            "Epoch 24/50\n",
            "765/765 - 3s - loss: 121.9642 - mae: 3.4228 - val_loss: 180.7590 - val_mae: 3.9555 - 3s/epoch - 4ms/step\n",
            "Epoch 25/50\n",
            "765/765 - 3s - loss: 116.3564 - mae: 3.3837 - val_loss: 175.6487 - val_mae: 3.9220 - 3s/epoch - 4ms/step\n",
            "Epoch 26/50\n",
            "765/765 - 3s - loss: 120.3230 - mae: 3.4150 - val_loss: 163.8838 - val_mae: 3.9031 - 3s/epoch - 4ms/step\n",
            "Epoch 27/50\n",
            "765/765 - 3s - loss: 122.5289 - mae: 3.4394 - val_loss: 191.4070 - val_mae: 5.4247 - 3s/epoch - 4ms/step\n",
            "Epoch 28/50\n",
            "765/765 - 3s - loss: 123.0548 - mae: 3.3628 - val_loss: 176.9993 - val_mae: 4.5269 - 3s/epoch - 4ms/step\n",
            "Epoch 29/50\n",
            "765/765 - 3s - loss: 120.8945 - mae: 3.3668 - val_loss: 178.2523 - val_mae: 4.1479 - 3s/epoch - 4ms/step\n",
            "Epoch 30/50\n",
            "765/765 - 3s - loss: 117.5463 - mae: 3.3907 - val_loss: 188.2631 - val_mae: 4.0618 - 3s/epoch - 4ms/step\n",
            "Epoch 31/50\n",
            "765/765 - 3s - loss: 118.6902 - mae: 3.3537 - val_loss: 202.3627 - val_mae: 4.1870 - 3s/epoch - 4ms/step\n",
            "Epoch 32/50\n",
            "765/765 - 3s - loss: 110.9030 - mae: 3.2556 - val_loss: 173.7832 - val_mae: 3.9944 - 3s/epoch - 4ms/step\n",
            "Epoch 33/50\n",
            "765/765 - 3s - loss: 113.3022 - mae: 3.2397 - val_loss: 177.2056 - val_mae: 4.3367 - 3s/epoch - 4ms/step\n",
            "Epoch 34/50\n",
            "765/765 - 3s - loss: 120.7470 - mae: 3.2327 - val_loss: 166.0979 - val_mae: 3.8574 - 3s/epoch - 4ms/step\n",
            "Epoch 35/50\n",
            "765/765 - 4s - loss: 112.9062 - mae: 3.1560 - val_loss: 177.2815 - val_mae: 3.8798 - 4s/epoch - 5ms/step\n",
            "Epoch 36/50\n",
            "765/765 - 3s - loss: 110.8007 - mae: 3.0964 - val_loss: 213.2809 - val_mae: 3.9873 - 3s/epoch - 4ms/step\n",
            "Epoch 37/50\n",
            "765/765 - 3s - loss: 107.3601 - mae: 3.1006 - val_loss: 195.2143 - val_mae: 4.1017 - 3s/epoch - 4ms/step\n",
            "Epoch 38/50\n",
            "765/765 - 3s - loss: 106.7459 - mae: 3.0371 - val_loss: 171.2067 - val_mae: 4.1048 - 3s/epoch - 4ms/step\n",
            "Epoch 39/50\n",
            "765/765 - 4s - loss: 106.2396 - mae: 2.9905 - val_loss: 171.8986 - val_mae: 3.9261 - 4s/epoch - 5ms/step\n",
            "Epoch 40/50\n",
            "765/765 - 3s - loss: 105.4221 - mae: 2.9522 - val_loss: 169.1057 - val_mae: 3.7804 - 3s/epoch - 4ms/step\n",
            "Epoch 41/50\n",
            "765/765 - 3s - loss: 111.1633 - mae: 2.9267 - val_loss: 190.2738 - val_mae: 4.1395 - 3s/epoch - 4ms/step\n",
            "Epoch 42/50\n",
            "765/765 - 3s - loss: 100.8936 - mae: 2.8640 - val_loss: 171.2406 - val_mae: 3.8487 - 3s/epoch - 4ms/step\n",
            "Epoch 43/50\n",
            "765/765 - 3s - loss: 99.2781 - mae: 2.8036 - val_loss: 182.7303 - val_mae: 3.8412 - 3s/epoch - 5ms/step\n",
            "Epoch 44/50\n",
            "765/765 - 3s - loss: 102.1949 - mae: 2.8202 - val_loss: 202.9534 - val_mae: 4.4667 - 3s/epoch - 4ms/step\n",
            "Epoch 45/50\n",
            "765/765 - 3s - loss: 105.4552 - mae: 2.8304 - val_loss: 216.8012 - val_mae: 4.1154 - 3s/epoch - 4ms/step\n",
            "Epoch 46/50\n",
            "765/765 - 3s - loss: 98.8931 - mae: 2.7501 - val_loss: 189.3141 - val_mae: 3.8129 - 3s/epoch - 4ms/step\n",
            "Epoch 47/50\n",
            "765/765 - 3s - loss: 98.0312 - mae: 2.7086 - val_loss: 175.9190 - val_mae: 3.8432 - 3s/epoch - 4ms/step\n",
            "Epoch 48/50\n",
            "765/765 - 3s - loss: 95.0743 - mae: 2.6435 - val_loss: 211.4585 - val_mae: 4.2017 - 3s/epoch - 4ms/step\n",
            "Epoch 49/50\n",
            "765/765 - 3s - loss: 99.1407 - mae: 2.6951 - val_loss: 171.5164 - val_mae: 4.3566 - 3s/epoch - 4ms/step\n",
            "Epoch 50/50\n",
            "765/765 - 3s - loss: 94.5744 - mae: 2.6131 - val_loss: 222.9897 - val_mae: 4.1177 - 3s/epoch - 4ms/step\n"
          ]
        }
      ]
    },
    {
      "cell_type": "code",
      "metadata": {
        "id": "3Ak2TeW9roII",
        "colab": {
          "base_uri": "https://localhost:8080/"
        },
        "outputId": "f06c64f3-76b2-4936-c7f2-7663cc2a1f17"
      },
      "source": [
        "# Делаем прогноз. Возвращается копия предсказания в виде одномерного массива\n",
        "x_test = np.asarray(x_test).astype(np.float32)\n",
        "pred = model.predict(x_test).flatten()"
      ],
      "execution_count": 82,
      "outputs": [
        {
          "output_type": "stream",
          "name": "stdout",
          "text": [
            "284/284 [==============================] - 1s 3ms/step\n"
          ]
        }
      ]
    },
    {
      "cell_type": "code",
      "source": [
        "pred.shape, x_test.shape, y_test.shape"
      ],
      "metadata": {
        "id": "6qiVjxIB8jx9",
        "outputId": "90f033df-55a1-4d03-a160-5bef760d60b7",
        "colab": {
          "base_uri": "https://localhost:8080/"
        }
      },
      "execution_count": 76,
      "outputs": [
        {
          "output_type": "execute_result",
          "data": {
            "text/plain": [
              "((9060,), (9060, 2048), (9060,))"
            ]
          },
          "metadata": {},
          "execution_count": 76
        }
      ]
    },
    {
      "cell_type": "code",
      "source": [
        "d = pred - y_test\n",
        "mse_f = np.mean(d**2)\n",
        "mae_f = np.mean(abs(d))\n",
        "rmse_f = np.sqrt(mse_f)\n",
        "r2_f = 1-(sum(d**2)/sum((y-np.mean(y))**2))\n",
        "\n",
        "print(\"Результаты работы модели на тесте:\")\n",
        "print(\"MAE:\",mae_f)\n",
        "print(\"R-Squared:\", r2_f)"
      ],
      "metadata": {
        "id": "jHZQEjHU9JGL",
        "outputId": "0a2d6017-9e1e-424b-81e9-94950eb408e5",
        "colab": {
          "base_uri": "https://localhost:8080/"
        }
      },
      "execution_count": 77,
      "outputs": [
        {
          "output_type": "stream",
          "name": "stdout",
          "text": [
            "Результаты работы модели на тесте:\n",
            "MAE: 4.924167221471412\n",
            "R-Squared: 0.805016380381706\n"
          ]
        }
      ]
    },
    {
      "cell_type": "code",
      "source": [
        "x_train = np.asarray(x_train).astype(np.float32)\n",
        "pred = model.predict(x_train).flatten()\n",
        "d = pred - y_train\n",
        "mse_f = np.mean(d**2)\n",
        "mae_f = np.mean(abs(d))\n",
        "rmse_f = np.sqrt(mse_f)\n",
        "r2_f = 1-(sum(d**2)/sum((y-np.mean(y))**2))\n",
        "\n",
        "print(\"Результаты работы модели на трейне:\")\n",
        "print(\"MAE:\",mae_f)\n",
        "print(\"R-Squared:\", r2_f)"
      ],
      "metadata": {
        "id": "H3-r8e8N9TUo",
        "outputId": "e01e382b-95e5-4775-f02e-5aab23efd5d8",
        "colab": {
          "base_uri": "https://localhost:8080/"
        }
      },
      "execution_count": 78,
      "outputs": [
        {
          "output_type": "stream",
          "name": "stdout",
          "text": [
            "850/850 [==============================] - 2s 2ms/step\n",
            "Результаты работы модели на трейне:\n",
            "MAE: 2.6139019\n",
            "R-Squared: 0.855184418223191\n"
          ]
        }
      ]
    },
    {
      "cell_type": "code",
      "source": [],
      "metadata": {
        "id": "0oRQBizi8Bup"
      },
      "execution_count": 78,
      "outputs": []
    },
    {
      "cell_type": "markdown",
      "metadata": {
        "id": "m_6XDRknyO8Q"
      },
      "source": [
        "## Визуализация качества обучения"
      ]
    },
    {
      "cell_type": "code",
      "metadata": {
        "id": "k-VXHvPjySTw",
        "colab": {
          "base_uri": "https://localhost:8080/",
          "height": 449
        },
        "outputId": "d8375816-b50b-40e2-d622-6d0ede1c9e8c"
      },
      "source": [
        "# Считаем графики ошибки\n",
        "plt.plot(history.history['mae'],\n",
        "         label='Средняя абсолютная ошибка на обучающем наборе')\n",
        "plt.plot(history.history['val_mae'],\n",
        "         label='Средняя абсолютная ошибка на val наборе')\n",
        "plt.xlabel('Эпоха обучения')\n",
        "plt.ylabel('Средняя абсолютная ошибка')\n",
        "plt.legend()\n",
        "plt.show()"
      ],
      "execution_count": 79,
      "outputs": [
        {
          "output_type": "display_data",
          "data": {
            "text/plain": [
              "<Figure size 640x480 with 1 Axes>"
            ],
            "image/png": "[encoded data removed]"
          },
          "metadata": {}
        }
      ]
    },
    {
      "cell_type": "code",
      "metadata": {
        "id": "X-FfB3ck35Zp",
        "colab": {
          "base_uri": "https://localhost:8080/",
          "height": 449
        },
        "outputId": "6ce137dd-ace1-4e46-fabe-2c64a295733f"
      },
      "source": [
        "# Разброс предсказаний может показать перекос, если есть\n",
        "plt.scatter(y_test, pred)\n",
        "plt.xlabel('Правильные значение')\n",
        "plt.ylabel('Предсказания')\n",
        "plt.axis('equal')\n",
        "plt.xlim(plt.xlim())\n",
        "plt.ylim(plt.ylim())\n",
        "plt.plot([-100, 100], [-100, 100])\n",
        "plt.show()"
      ],
      "execution_count": 84,
      "outputs": [
        {
          "output_type": "display_data",
          "data": {
            "text/plain": [
              "<Figure size 640x480 with 1 Axes>"
            ],
            "image/png": "[encoded data removed]"
          },
          "metadata": {}
        }
      ]
    },
    {
      "cell_type": "markdown",
      "metadata": {
        "id": "TTw_JA5TOiYF"
      },
      "source": [
        "**Печатаем примеры результатов**"
      ]
    },
    {
      "cell_type": "markdown",
      "metadata": {
        "id": "IjAxrbvLDsI-"
      },
      "source": [
        "Гистограмма ошибок"
      ]
    },
    {
      "cell_type": "code",
      "metadata": {
        "id": "K4SHKjI_DuaE",
        "colab": {
          "base_uri": "https://localhost:8080/",
          "height": 449
        },
        "outputId": "9a7fa816-b6fc-4eb8-b61f-9612fadd4cdb"
      },
      "source": [
        "#Разность предсказанного и правильного ответа\n",
        "error = pred - y_test\n",
        "\n",
        "#Построение гистограммы\n",
        "plt.hist(abs(error), bins = 25)\n",
        "plt.xlabel(\"Значение ошибки\")\n",
        "plt.ylabel(\"Количество\")\n",
        "plt.show()"
      ],
      "execution_count": 83,
      "outputs": [
        {
          "output_type": "display_data",
          "data": {
            "text/plain": [
              "<Figure size 640x480 with 1 Axes>"
            ],
            "image/png": "[encoded data removed]"
          },
          "metadata": {}
        }
      ]
    },
    {
      "cell_type": "code",
      "source": [],
      "metadata": {
        "id": "aK15TMtyquUr"
      },
      "execution_count": null,
      "outputs": []
    }
  ]
}